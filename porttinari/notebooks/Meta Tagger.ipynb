{
  "cells": [
    {
      "cell_type": "markdown",
      "metadata": {
        "id": "IDKMHLQIIE7a"
      },
      "source": [
        "# Meta tagger\n",
        "\n",
        "[Paper link](https://aclanthology.org/P18-1246/)"
      ]
    },
    {
      "attachments": {},
      "cell_type": "markdown",
      "metadata": {
        "id": "Ou_XKOADIe0D"
      },
      "source": [
        "## Setup environment\n",
        "\n",
        "This is procedure is needed for Google Colab"
      ]
    },
    {
      "cell_type": "code",
      "execution_count": null,
      "metadata": {
        "colab": {
          "base_uri": "https://localhost:8080/"
        },
        "id": "Pt4-7-qwIKIc",
        "outputId": "feff10ba-2e41-4f18-d862-7a9a2974d0a6"
      },
      "outputs": [],
      "source": [
        "! add-apt-repository ppa:graphics-drivers/ppa\n",
        "! apt update\n",
        "! apt install nvidia-384 nvidia-384-dev\n",
        "! apt-get install g++ freeglut3-dev build-essential libx11-dev libxmu-dev libxi-dev libglu1-mesa libglu1-mesa-dev\n",
        "! apt install gcc-6\n",
        "! apt install g++-6\n",
        "! wget https://developer.nvidia.com/compute/cuda/9.2/Prod/local_installers/cuda-repo-ubuntu1710-9-2-local_9.2.88-1_amd64\n",
        "! wget https://developer.nvidia.com/compute/cuda/9.2/Prod/patches/1/cuda-repo-ubuntu1710-9-2-local-cublas-update-1_1.0-1_amd64\n",
        "! dpkg -i --force-overwrite cuda-repo-ubuntu1710-9-2-local_9.2.88-1_amd64\n",
        "! apt-key add /var/cuda-repo-9-2-local/7fa2af80.pub\n",
        "! apt-get update\n",
        "! apt-get install cuda\n",
        "! dpkg -i --force-overwrite cuda-repo-ubuntu1710-9-2-local-cublas-update-1_1.0-1_amd64\n",
        "! sudo apt install cuda-toolkit-9-1\n",
        "# ! apt --fix-broken install\n",
        "! sudo apt -f install\n",
        "# !apt-get install nvidia-cuda-toolkit\n",
        "! nvcc --version"
      ]
    },
    {
      "cell_type": "markdown",
      "metadata": {
        "id": "O5sPjY6CI7mO"
      },
      "source": [
        "# Meta Tagger"
      ]
    },
    {
      "cell_type": "code",
      "execution_count": null,
      "metadata": {
        "colab": {
          "base_uri": "https://localhost:8080/"
        },
        "id": "B9VrMxfC2RRZ",
        "outputId": "2b6efd37-66e3-412b-8df2-33132c6fd6a2"
      },
      "outputs": [],
      "source": [
        "%cd /content\n",
        "! rm -rf /content/meta_tagger\n",
        "! git clone https://github.com/google/meta_tagger.git"
      ]
    },
    {
      "cell_type": "code",
      "execution_count": null,
      "metadata": {
        "colab": {
          "base_uri": "https://localhost:8080/"
        },
        "id": "Ldrw82e_2Zsg",
        "outputId": "36841a05-4e49-4813-ef20-ae28e109a723"
      },
      "outputs": [],
      "source": [
        "%cd meta_tagger"
      ]
    },
    {
      "cell_type": "code",
      "execution_count": null,
      "metadata": {
        "colab": {
          "base_uri": "https://localhost:8080/"
        },
        "id": "7FIV-sJ52hRw",
        "outputId": "fc734b06-2dbf-48f7-db43-7f18b84489e5"
      },
      "outputs": [],
      "source": [
        "%%bash\n",
        "\n",
        "mkdir data\n",
        "mkdir embeddings\n",
        "\n",
        "! wget http://143.107.183.175:22980/download.php?file=embeddings/word2vec/skip_s300.zip -P data/\n",
        "# I stored in my Google Drive for faster experimentation\n",
        "# cp /content/drive/MyDrive/Colab\\ Notebooks/resources/skip_s300.zip data/\n",
        "unzip data/skip_s300.zip -d embeddings\n",
        "\n",
        "# Porttinari-base\n",
        "git clone https://github.com/huberemanuel/UD_Portuguese-Porttinari.git data/udbase/UD_Portuguese-Porttinari"
      ]
    },
    {
      "cell_type": "code",
      "execution_count": null,
      "metadata": {
        "colab": {
          "base_uri": "https://localhost:8080/"
        },
        "id": "VGMBmpw8CDNE",
        "outputId": "272daa9b-8dfa-491c-8814-c42482c07e1f"
      },
      "outputs": [],
      "source": [
        "! python2.7 -m pip install absl-py tensorflow==1.5 \n",
        "! mkdir -p ~/tensorboard/wsj_xtag_v2"
      ]
    },
    {
      "cell_type": "markdown",
      "metadata": {
        "id": "cocCXNBwIkZM"
      },
      "source": [
        "## Train"
      ]
    },
    {
      "cell_type": "code",
      "execution_count": null,
      "metadata": {
        "colab": {
          "base_uri": "https://localhost:8080/"
        },
        "id": "gBJuCLhA4Yln",
        "outputId": "93b0e0a6-9471-4654-b076-f95b3d88ae19"
      },
      "outputs": [],
      "source": [
        "! cd /content/meta_tagger_v2 && python train_cw.py --train='/content/meta_tagger/data/udbase/UD_Portuguese-Porttinari/pt_porttinari-ud-train.conllu'\\\n",
        "\t--dev='/content/meta_tagger/data/udbase/UD_Portuguese-Porttinari/pt_porttinari-ud-dev.conllu'\\\n",
        "\t--embeddings='/content/meta_tagger/embeddings/skip_s300.txt'\\\n",
        "\t--task='upos'\\\n",
        "\t--config='config.json'\\"
      ]
    }
  ],
  "metadata": {
    "colab": {
      "collapsed_sections": [
        "Ou_XKOADIe0D"
      ],
      "provenance": []
    },
    "gpuClass": "standard",
    "kernelspec": {
      "display_name": "Python 3",
      "name": "python3"
    },
    "language_info": {
      "name": "python"
    }
  },
  "nbformat": 4,
  "nbformat_minor": 0
}
