{
  "cells": [
    {
      "cell_type": "markdown",
      "metadata": {
        "id": "ej8QhS29MThW"
      },
      "source": [
        "# UDPipe 2\n",
        "\n"
      ]
    },
    {
      "cell_type": "markdown",
      "metadata": {
        "id": "3jzJ_JP_J_fZ"
      },
      "source": [
        "## Setup environment"
      ]
    },
    {
      "cell_type": "code",
      "execution_count": null,
      "metadata": {
        "colab": {
          "base_uri": "https://localhost:8080/"
        },
        "id": "vsbdjTsBSARx",
        "outputId": "95e03a87-693d-44d5-f3f7-be759c84c654"
      },
      "outputs": [],
      "source": [
        "! nvidia-smi"
      ]
    },
    {
      "cell_type": "code",
      "execution_count": null,
      "metadata": {
        "colab": {
          "base_uri": "https://localhost:8080/"
        },
        "id": "q-DZsx-xMTNi",
        "outputId": "6bfcc690-14b9-4b26-c890-83bb125b56f5"
      },
      "outputs": [],
      "source": [
        "! wget https://developer.nvidia.com/compute/cuda/10.0/Prod/local_installers/cuda-repo-ubuntu1804-10-0-local-10.0.130-410.48_1.0-1_amd64\n",
        "! dpkg -i /content/cuda-repo-ubuntu1804-10-0-local-10.0.130-410.48_1.0-1_amd64\n",
        "! sudo apt-get update\n",
        "! sudo apt-get install cuda-10.0.*\n",
        "! apt autoremove\n",
        "\n",
        "# You will need to manually download these files (https://gist.github.com/matheustguimaraes/43e0b65aa534db4df2918f835b9b361d?permalink_comment_id=3433448)\n",
        "! dpkg -i \"/content/drive/MyDrive/Studies/Mestrado/Experimentos Tagging Porttinari-base/libs/libcudnn7_7.4.2.24-1+cuda10.0_amd64.deb\"\n",
        "! dpkg -i \"/content/drive/MyDrive/Studies/Mestrado/Experimentos Tagging Porttinari-base/libs/libcudnn7-dev_7.4.2.24-1+cuda10.0_amd64.deb\"\n",
        "! dpkg -i \"/content/drive/MyDrive/Studies/Mestrado/Experimentos Tagging Porttinari-base/libs/libcudnn7-doc_7.4.2.24-1+cuda10.0_amd64.deb\"\n",
        "! ls -l /usr/lib/x86_64-linux-gnu/libcudnn.so.7*"
      ]
    },
    {
      "cell_type": "markdown",
      "metadata": {
        "id": "qehZt0HXNcC1"
      },
      "source": [
        "Restart the environment"
      ]
    },
    {
      "cell_type": "code",
      "execution_count": null,
      "metadata": {
        "id": "LKgV5Shch3AS"
      },
      "outputs": [],
      "source": [
        "! rm -rf /content/UD_Portuguese-Porttinari"
      ]
    },
    {
      "cell_type": "code",
      "execution_count": null,
      "metadata": {
        "colab": {
          "base_uri": "https://localhost:8080/"
        },
        "id": "bt9HC8gohAtm",
        "outputId": "503e5369-bc36-4738-a120-63b0efd35291"
      },
      "outputs": [],
      "source": [
        "# Porttinari\n",
        "! git clone https://github.com/huberemanuel/UD_Portuguese-Porttinari.git"
      ]
    },
    {
      "cell_type": "markdown",
      "metadata": {
        "id": "FqYpqCpxZYC3"
      },
      "source": [
        "## Setting up UDPipe 2"
      ]
    },
    {
      "cell_type": "code",
      "execution_count": null,
      "metadata": {
        "id": "0oqhUHKBfzN7"
      },
      "outputs": [],
      "source": [
        "!rm -rf udpipe2"
      ]
    },
    {
      "cell_type": "code",
      "execution_count": null,
      "metadata": {
        "colab": {
          "base_uri": "https://localhost:8080/"
        },
        "id": "MIfJTXouf83f",
        "outputId": "c9ef5096-5498-4123-bed0-c549ad52468c"
      },
      "outputs": [],
      "source": [
        "%%bash\n",
        "git clone https://github.com/ufal/udpipe udpipe2"
      ]
    },
    {
      "cell_type": "code",
      "execution_count": null,
      "metadata": {
        "colab": {
          "base_uri": "https://localhost:8080/"
        },
        "id": "iH0VMl1yf0g6",
        "outputId": "252d05e5-8bd5-4727-87c7-cb93d8a0a38a"
      },
      "outputs": [],
      "source": [
        "%%bash\n",
        "cd udpipe2 \n",
        "git checkout udpipe-2"
      ]
    },
    {
      "cell_type": "markdown",
      "metadata": {
        "id": "J71cK0gEPJef"
      },
      "source": [
        "### Installing dependencies"
      ]
    },
    {
      "cell_type": "code",
      "execution_count": null,
      "metadata": {
        "colab": {
          "base_uri": "https://localhost:8080/",
          "height": 1000
        },
        "id": "I4ixThwbOWfy",
        "outputId": "225ca6d5-c8dc-40a4-e8e9-46c46d719dfc"
      },
      "outputs": [],
      "source": [
        "! pip uninstall tensorflow tensorflow-gpu -y\n",
        "! pip install tensorflow-gpu==1.15.4 "
      ]
    },
    {
      "cell_type": "code",
      "execution_count": null,
      "metadata": {
        "colab": {
          "base_uri": "https://localhost:8080/"
        },
        "id": "VrA7DkkgZvBB",
        "outputId": "58b41561-3f11-40a8-9105-02f39c4b9bce"
      },
      "outputs": [],
      "source": [
        "! nvidia-smi"
      ]
    },
    {
      "cell_type": "code",
      "execution_count": null,
      "metadata": {
        "colab": {
          "base_uri": "https://localhost:8080/"
        },
        "id": "sIRhLXvRPAu8",
        "outputId": "34035495-9682-41d1-add0-9e9f28c01f48"
      },
      "outputs": [],
      "source": [
        "import tensorflow as tf\n",
        "print(tf.__version__)\n",
        "print(tf.test.is_gpu_available())"
      ]
    },
    {
      "cell_type": "markdown",
      "metadata": {
        "id": "keXPZsTMPGKP"
      },
      "source": [
        "Install another udpipe dependency"
      ]
    },
    {
      "cell_type": "code",
      "execution_count": null,
      "metadata": {
        "colab": {
          "base_uri": "https://localhost:8080/"
        },
        "id": "jN2BIiF2hXR7",
        "outputId": "1bc34120-ada6-4321-8bce-671a18a8baac"
      },
      "outputs": [],
      "source": [
        "%%bash\n",
        "cd udpipe2\n",
        "git clone https://github.com/ufal/chu_liu_edmonds.git"
      ]
    },
    {
      "cell_type": "code",
      "execution_count": null,
      "metadata": {
        "colab": {
          "base_uri": "https://localhost:8080/"
        },
        "id": "RUei8ztbhaRz",
        "outputId": "54f088ec-10f7-4d61-a70f-a32f5ab3e1a7"
      },
      "outputs": [],
      "source": [
        "%%bash\n",
        "pip install -e udpipe2/chu_liu_edmonds/"
      ]
    },
    {
      "cell_type": "markdown",
      "metadata": {
        "id": "0rLujcJharMF"
      },
      "source": [
        "Installing wembedding_service dependency"
      ]
    },
    {
      "cell_type": "code",
      "execution_count": null,
      "metadata": {
        "colab": {
          "base_uri": "https://localhost:8080/"
        },
        "id": "7ePjlVkfZl1o",
        "outputId": "548bf1c1-b422-4694-ac71-1e184b2dbc4b"
      },
      "outputs": [],
      "source": [
        "%%bash\n",
        "cd udpipe2\n",
        "rm -rf wembedding_service\n",
        "git clone https://github.com/ufal/wembedding_service"
      ]
    },
    {
      "cell_type": "markdown",
      "metadata": {
        "id": "b-oc019Cd-y_"
      },
      "source": [
        "## Training udpipe"
      ]
    },
    {
      "cell_type": "code",
      "execution_count": null,
      "metadata": {
        "id": "Od3sQ5bEu2QT"
      },
      "outputs": [],
      "source": [
        "%%bash\n",
        "rm -rf udpipe2/my-model"
      ]
    },
    {
      "cell_type": "markdown",
      "metadata": {
        "id": "I_ljB-ysPd1h"
      },
      "source": [
        "Training from zero:"
      ]
    },
    {
      "cell_type": "code",
      "execution_count": null,
      "metadata": {
        "id": "PTXeo0uXpCda"
      },
      "outputs": [],
      "source": [
        "TRAIN=\"/content/UD_Portuguese-Porttinari/pt_porttinari-ud-train.conllu\"\n",
        "DEV=\"/content/UD_Portuguese-Porttinari/pt_porttinari-ud-dev.conllu\"\n",
        "TEST=\"/content/UD_Portuguese-Porttinari/pt_porttinari-ud-test.conllu\"\n",
        "! mkdir -p /content/udpipe2/my-model/artifacts\n",
        "! cp {TRAIN} /content/udpipe2/my-model/artifacts/train.conllu\n",
        "! cp {DEV} /content/udpipe2/my-model/artifacts/dev.conllu\n",
        "! cp {TEST} /content/udpipe2/my-model/artifacts/test.conllu"
      ]
    },
    {
      "cell_type": "code",
      "execution_count": null,
      "metadata": {
        "colab": {
          "base_uri": "https://localhost:8080/"
        },
        "id": "KPGuMwDuOp--",
        "outputId": "fe8b69f4-4c84-4a95-fd0a-fd0020e085e7"
      },
      "outputs": [],
      "source": [
        "for i in range(6):\n",
        "    run_id = 46 + i\n",
        "    ! rm -rf udpipe2/my-model/\n",
        "    ! cd udpipe2 && python udpipe2.py my-model --train {TRAIN} \\\n",
        "                                               --parse 0 \\\n",
        "                                               --dev {DEV} \\\n",
        "                                               --test {TEST} \\\n",
        "                                               --epochs 8:1e-3,8:1e-4 \\\n",
        "                                               --batch_size 128 \\\n",
        "                                               --tags \"UPOS\" \\\n",
        "                                               --wembedding_model \"neuralmind/bert-large-portuguese-cased\" \\\n",
        "                                               --seed {run_id}\n",
        "\n",
        "    ! cd udpipe2 && python udpipe2.py my-model --predict --predict_input {TRAIN} --predict_output train.conllu\n",
        "    ! cd udpipe2 && python udpipe2_eval.py {TRAIN} train.conllu --verbose > udpipe2/my-model/train_result.txt\n",
        "    ! cd udpipe2 && python udpipe2.py my-model --predict --predict_input {TEST} --predict_output test.conllu\n",
        "    ! cd udpipe2 && python udpipe2_eval.py {TEST} test.conllu --verbose > udpipe2/my-model/test_result.txt\n",
        "\n",
        "    ! mkdir -p runs/{run_id}\n",
        "    ! cp udpipe2/*.conllu udpipe2/my-model/\n",
        "    ! zip -r -9 runs/logs_{run_id}.zip udpipe2/my-model/\n",
        "    # Comment or put your specific location to store the experiments :)\n",
        "    ! mv runs/logs_{run_id}.zip \"/content/drive/MyDrive/Studies/Mestrado/Experimentos Tagging Porttinari-base/udpipe2/\""
      ]
    }
  ],
  "metadata": {
    "accelerator": "GPU",
    "colab": {
      "collapsed_sections": [
        "Thvird2518LK",
        "qvw0gcRAB4-m",
        "fyp3OQuK6DXb"
      ],
      "provenance": []
    },
    "gpuClass": "standard",
    "kernelspec": {
      "display_name": "Python 3",
      "name": "python3"
    },
    "language_info": {
      "name": "python"
    }
  },
  "nbformat": 4,
  "nbformat_minor": 0
}
